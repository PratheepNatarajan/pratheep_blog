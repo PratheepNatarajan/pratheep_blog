{
 "cells": [
  {
   "cell_type": "markdown",
   "metadata": {},
   "source": [
    "---\n",
    "layout: post\n",
    "title: RPG Tinkers\n",
    "description:  Modifications for adventureGame\n",
    "type: issues \n",
    "comments: true\n",
    "permalink: /csse/tinkers\n",
    "---"
   ]
  },
  {
   "cell_type": "markdown",
   "metadata": {},
   "source": [
    "### RPG Tinker One\n",
    "\n",
    "- Modifying the message of the NPC depending if the player has collected the items needed"
   ]
  },
  {
   "cell_type": "code",
   "execution_count": null,
   "metadata": {
    "vscode": {
     "languageId": "javascript"
    }
   },
   "outputs": [],
   "source": [
    "    // NPC data for Questgiver\n",
    "    const sprite_src_questgiver = path + \"/images/gamify/questNPC.png\";\n",
    "    const sprite_data_questgiver = {\n",
    "        id: 'Questgiver',\n",
    "        // Store the base greeting as a regular property\n",
    "        greeting: \"Find me two spoons and I'll give you this key.\",\n",
    "        // Use a method instead of a getter\n",
    "        getGreeting() {\n",
    "            const itemsCollected = levelData.getPlayerItem();\n",
    "            if (itemsCollected >= 2) {\n",
    "                return \"Here's the key to escape. Use it wisely!\";\n",
    "            }\n",
    "            return this.greeting;\n",
    "        },\n",
    "        src: sprite_src_questgiver,\n",
    "        SCALE_FACTOR: 9,\n",
    "        STEP_FACTOR: 1000,\n",
    "        ANIMATION_RATE: 50,\n",
    "        pixels: { height: 64, width: 64 },\n",
    "        INIT_POSITION: { x: (width/3 ), y: (height/3 ) },\n",
    "        orientation: { rows: 1, columns: 1 },\n",
    "        down: { row: 0, start: 0, columns: 1 },\n",
    "        hitbox: { widthPercentage: 0.1, heightPercentage: 0.2 },\n",
    "        quest: \"2 spoon = 1 key\",\n",
    "        level_data: levelData"
   ]
  },
  {
   "cell_type": "markdown",
   "metadata": {},
   "source": [
    "### Explanation\n",
    "\n",
    "- Utilizes a condition to check if player has enough items\n",
    "- If true, the message displays \"Here's the key to escape. Use it wisely!\"\n",
    "- If false it returns to the default greeting until the player makes the condition true"
   ]
  },
  {
   "cell_type": "markdown",
   "metadata": {},
   "source": [
    "### RPG Tinker Two\n",
    "\n",
    "- Randomize the position of spoons each time the game loads"
   ]
  },
  {
   "cell_type": "code",
   "execution_count": null,
   "metadata": {
    "vscode": {
     "languageId": "javascript"
    }
   },
   "outputs": [],
   "source": [
    "const getRandomPosition = (scaleFactor) => {\n",
    "    return {\n",
    "      x: Math.floor(Math.random() * (width - 32 * scaleFactor)),\n",
    "      y: Math.floor(Math.random() * (height - 32 * scaleFactor))\n",
    "    };\n",
    "  };\n",
    "\n",
    "  const spriteItem1 = path + \"/images/gamify/spoon.png\"; // be sure to include the path\n",
    "  const scaleItem1 = 20;\n",
    "  const randomPosition1 = getRandomPosition(scaleItem1);\n",
    "  const spriteDataItem1 = {\n",
    "      id: 'Item',\n",
    "      greeting: \"none\",\n",
    "      src: spriteItem1,\n",
    "      SCALE_FACTOR: scaleItem1,\n",
    "      STEP_FACTOR: 1000,\n",
    "      ANIMATION_RATE: 50,\n",
    "      INIT_POSITION: { x: randomPosition1.x, y: randomPosition1.y }, \n",
    "      pixels: {height: 32, width: 32},\n",
    "      orientation: {rows: 1, columns: 1 },\n",
    "      down: {row: 0, start: 0, columns: 1 },\n",
    "      left: {row: 1, start: 0, columns: 1 },\n",
    "      right: {row: 1, start: 0, columns: 1 },\n",
    "      up: {row: 1, start: 0, columns: 1 },\n",
    "      hitbox: { widthPercentage: 0.2, heightPercentage: 0.2 },\n",
    "      level_data: levelData,\n",
    "  };"
   ]
  },
  {
   "cell_type": "markdown",
   "metadata": {},
   "source": [
    "### Explanation\n",
    "\n",
    "- A new variable is created, which ransomizes the position of the items\n",
    "- RandomPosition1 and RandomPosition2 loads the randomized location of the items\n",
    "- MathRandom() genreates a random number which affects the position of the items"
   ]
  },
  {
   "cell_type": "markdown",
   "metadata": {},
   "source": [
    "### RPG Tinker Three\n",
    "\n",
    "Adding a knight npc to take the keys and teleport the player to the next level (Trying to fix the greeting of the npc depending on amount of keys as it is broken right now)"
   ]
  },
  {
   "cell_type": "code",
   "execution_count": null,
   "metadata": {
    "vscode": {
     "languageId": "javascript"
    }
   },
   "outputs": [],
   "source": [
    "if (this.spriteData.id === 'Knight' && levelData.keys >= 2 && !this.keysHandedOver) \n",
    "    removeItemFromInventory(\"key\");\n",
    "    removeItemFromInventory(\"key\");\n",
    "    levelData.keys -= 2; d\n",
    "    this.keysCollected = true; \n",
    "    this.keysHandedOver = true; \n",
    "    this.spriteData.greeting = \"You have handed over the keys! You may pass.\";\n",
    "    console.log(\"Keys removed from inventory and new message set\");                \n",
    "\n",
    "    setTimeout(() => {\n",
    "        try{\n",
    "            GameControl.handleLevelEnd();\n",
    "            GameControl.loadLevel(GameLevelWater); // Load GameLevelWater\n",
    "        }catch (error) {\n",
    "            console.error('Error loading level:', error);\n",
    "        }                    \n",
    "    }, 100);"
   ]
  },
  {
   "cell_type": "markdown",
   "metadata": {},
   "source": [
    "### Explanation\n",
    "\n",
    "- When the player interacts with the knight npc, the 2 keys are removed from the inventory\n",
    "- New message will pop up saying the player can pass\n",
    "- Gamelevel will end, and GameLevelWater starts"
   ]
  }
 ],
 "metadata": {
  "language_info": {
   "name": "python"
  }
 },
 "nbformat": 4,
 "nbformat_minor": 2
}
