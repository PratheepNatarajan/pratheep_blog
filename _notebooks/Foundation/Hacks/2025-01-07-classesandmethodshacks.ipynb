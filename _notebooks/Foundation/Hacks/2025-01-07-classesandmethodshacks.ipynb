{
 "cells": [
  {
   "cell_type": "raw",
   "metadata": {
    "vscode": {
     "languageId": "raw"
    }
   },
   "source": [
    "---\n",
    "layout: post\n",
    "title: Popcorn Hacks\n",
    "description:  Popcorn Hacks for lessons.\n",
    "type: issues \n",
    "comments: true\n",
    "---"
   ]
  },
  {
   "cell_type": "markdown",
   "metadata": {},
   "source": [
    "# JavaScript Classes and Methods - Interactive Popcorns \n",
    "In this notebook, you will learn about classes and methods in JavaScript. During the lesson, use these to enhance your understanding of clases and methods\n",
    "### \n",
    "- **Objectivs**: Do something - Change Later\n",
    "- **How**:\n",
    "\n"
   ]
  },
  {
   "cell_type": "markdown",
   "metadata": {},
   "source": [
    "# Exercise 1"
   ]
  },
  {
   "cell_type": "code",
   "execution_count": 3,
   "metadata": {
    "vscode": {
     "languageId": "javascript"
    }
   },
   "outputs": [
    {
     "data": {
      "application/javascript": "const rect = new Rectangle(20, 10);\nconsole.log(rect.calcArea())\nconsole.log(rect.getSides())\n\n",
      "text/plain": [
       "<IPython.core.display.Javascript object>"
      ]
     },
     "metadata": {},
     "output_type": "display_data"
    }
   ],
   "source": [
    "%%js\n",
    "const rect = new Rectangle(10, 5);\n",
    "console.log(rect.calcArea()); \n",
    "console.log(rect.getSides()); \n"
   ]
  },
  {
   "cell_type": "markdown",
   "metadata": {},
   "source": [
    "# Exercise 2"
   ]
  },
  {
   "cell_type": "code",
   "execution_count": null,
   "metadata": {
    "vscode": {
     "languageId": "javascript"
    }
   },
   "outputs": [],
   "source": [
    "const fridge = new Rectangle(20, 40);\n",
    "console.log(fridge.calcArea()); \n",
    "fridge.width = 20;\n",
    "fridge.height = 10;\n",
    "console.log(fridge.calcArea()); "
   ]
  },
  {
   "cell_type": "markdown",
   "metadata": {},
   "source": [
    "# Exercise 3"
   ]
  },
  {
   "cell_type": "code",
   "execution_count": null,
   "metadata": {
    "vscode": {
     "languageId": "javascript"
    }
   },
   "outputs": [],
   "source": [
    "const rect1 = new Rectangle(6, 8);\n",
    "console.log(rect1.calcArea()); \n",
    "const rect2 = new Rectangle(12, 4);\n",
    "console.log(rect2.calcArea());\n",
    "const rect3 = new Rectangle(16, 3);\n",
    "console.log(rect3.calcArea()); "
   ]
  },
  {
   "cell_type": "markdown",
   "metadata": {},
   "source": [
    "# Exercise 4"
   ]
  },
  {
   "cell_type": "code",
   "execution_count": null,
   "metadata": {
    "vscode": {
     "languageId": "javascript"
    }
   },
   "outputs": [],
   "source": [
    "4. class Rectangle {\n",
    "    constructor(width, height) {\n",
    "        this.width = width;\n",
    "        this.height = height;\n",
    "    }\n",
    "    getPerimeter() {\n",
    "        return 2 * (this.width + this.height); \n",
    "    }\n",
    "}\n",
    "const rect = new Rectangle(10, 5);\n",
    "console.log(rect.getPerimeter()); "
   ]
  },
  {
   "cell_type": "markdown",
   "metadata": {},
   "source": [
    "# Exercise 5"
   ]
  },
  {
   "cell_type": "code",
   "execution_count": null,
   "metadata": {
    "vscode": {
     "languageId": "javascript"
    }
   },
   "outputs": [],
   "source": [
    "5.class Square {\n",
    "    constructor(sideLength) {\n",
    "        this.sideLength = sideLength;\n",
    "    }\n",
    "    getDiagonal() {\n",
    "        return this.sideLength * Math.sqrt(2);\n",
    "    }\n",
    "}\n",
    "const square = new Square(5);\n",
    "console.log(square.getDiagonal()); "
   ]
  }
 ],
 "metadata": {
  "kernelspec": {
   "display_name": "Python 3",
   "language": "python",
   "name": "python3"
  },
  "language_info": {
   "codemirror_mode": {
    "name": "ipython",
    "version": 3
   },
   "file_extension": ".py",
   "mimetype": "text/x-python",
   "name": "python",
   "nbconvert_exporter": "python",
   "pygments_lexer": "ipython3",
   "version": "3.10.12"
  }
 },
 "nbformat": 4,
 "nbformat_minor": 2
}
