{
 "cells": [
  {
   "cell_type": "raw",
   "metadata": {
    "vscode": {
     "languageId": "raw"
    }
   },
   "source": [
    "---\n",
    "layout: post\n",
    "title: Nested Conditionals, Popcorn Hack One\n",
    "description:  First popcorn hack for nested conditonals\n",
    "type: issues \n",
    "comments: true\n",
    "permalink: /csse/lessons/nestedconditionals/popcornhacks\n",
    "---"
   ]
  },
  {
   "cell_type": "markdown",
   "metadata": {},
   "source": [
    "### Popcorn Hack 1\n",
    "\n",
    "This code has the option to let the player go on a ride of their choosing, and either lets them go on the ride or does not let them go on the ride based on their amount of tickets that they have. Try adding some code that makes it so that the code also takes into account the height of the person trying to ride the ride and have it be another constraint that determines whether or not the person goes on a ride."
   ]
  },
  {
   "cell_type": "code",
   "execution_count": null,
   "metadata": {
    "vscode": {
     "languageId": "html"
    }
   },
   "outputs": [
    {
     "data": {
      "text/html": [
       "<!-- HTML output div -->\n",
       "<div id=\"message\"></div>\n",
       "<script>\n",
       "    function runWhenDOMLoaded() {\n",
       "        let ticketAmount = 60; // Makes the ticket amount be 60, make another variable for height\n",
       "        let ride = \"Ferris Wheel\"; // sets the ride that the person wants to ride on\n",
       "        let height = \"Person\"\n",
       "\n",
       "        const messageElement = document.getElementById(\"message\");\n",
       "\n",
       "        function displayMessage(message) {\n",
       "            console.log(message); // Log to console\n",
       "            messageElement.textContent = message; // Display on the webpage\n",
       "        }\n",
       "\n",
       "        function enoughTickets(a) {//Add another parameter for height (use a comma and then a letter or word), maybe change the name of the parameter\n",
       "            if (ticketAmount >= a) {\n",
       "                displayMessage(\"You have enough tickets! Yay! :D\");//make another if else statement inside of this to check for height\n",
       "            } else {\n",
       "                displayMessage(\"You don't have enough tickets... :(\");\n",
       "            }\n",
       "        }\n",
       "\n",
       "        if (ride === \"Roller Coaster\") {\n",
       "            enoughTickets(60); //Nests the function and the conditionals\n",
       "        } else if (ride === \"Ferris Wheel\") {\n",
       "            enoughTickets(40);\n",
       "        }    \n",
       "    }\n",
       "\n",
       "    function enoughHeight(b) {\n",
       "        if (heightAmount >= b) {\n",
       "            displayMessage(\"You are allowed to ride! Go on.\");\n",
       "        } else {\n",
       "            displayMessage(\"You are not tall enough to ride\");\n",
       "        }\n",
       "    }\n",
       "\n",
       "    // Ensure the function runs only after the page loads\n",
       "    if (document.readyState === \"loading\") {\n",
       "        document.addEventListener(\"DOMContentLoaded\", runWhenDOMLoaded);\n",
       "    } else {\n",
       "        runWhenDOMLoaded();\n",
       "    }\n",
       "</script>\n"
      ],
      "text/plain": [
       "<IPython.core.display.HTML object>"
      ]
     },
     "metadata": {},
     "output_type": "display_data"
    }
   ],
   "source": [
    "%%html\n",
    "<!-- HTML output div -->\n",
    "<div id=\"message\"></div>\n",
    "<script>\n",
    "    function runWhenDOMLoaded() {\n",
    "        let ticketAmount = 60; // Makes the ticket amount be 60, make another variable for height\n",
    "        let ride = \"Ferris Wheel\"; // sets the ride that the person wants to ride on\n",
    "        let height = \"Person\"\n",
    "\n",
    "        const messageElement = document.getElementById(\"message\");\n",
    "\n",
    "        function displayMessage(message) {\n",
    "            console.log(message); // Log to console\n",
    "            messageElement.textContent = message; // Display on the webpage\n",
    "        }\n",
    "\n",
    "        function enoughTickets(a) {//Add another parameter for height (use a comma and then a letter or word), maybe change the name of the parameter\n",
    "            if (ticketAmount >= a) {\n",
    "                displayMessage(\"You have enough tickets! Yay! :D\");//make another if else statement inside of this to check for height\n",
    "            } else {\n",
    "                displayMessage(\"You don't have enough tickets... :(\");\n",
    "            }\n",
    "        }\n",
    "\n",
    "        if (ride === \"Roller Coaster\") {\n",
    "            enoughTickets(60); //Nests the function and the conditionals\n",
    "        } else if (ride === \"Ferris Wheel\") {\n",
    "            enoughTickets(40);\n",
    "        }    \n",
    "    }\n",
    "\n",
    "    function enoughHeight(b) {\n",
    "        if (heightAmount >= b) {\n",
    "            displayMessage(\"You are allowed to ride! Go on.\");\n",
    "        } else {\n",
    "            displayMessage(\"You are not tall enough to ride\");\n",
    "        }\n",
    "    }\n",
    "\n",
    "    // Ensure the function runs only after the page loads\n",
    "    if (document.readyState === \"loading\") {\n",
    "        document.addEventListener(\"DOMContentLoaded\", runWhenDOMLoaded);\n",
    "    } else {\n",
    "        runWhenDOMLoaded();\n",
    "    }\n",
    "</script>\n"
   ]
  },
  {
   "cell_type": "markdown",
   "metadata": {},
   "source": [
    "### Popcorn Hack 2\n",
    "\n",
    "This code uses boolean to check if a person has the unlimited amusement food card. If they do, then they are allowed to buy any food that they want for free. Add code for another type of food and take into account whether or not the food is in stock."
   ]
  },
  {
   "cell_type": "code",
   "execution_count": 5,
   "metadata": {
    "vscode": {
     "languageId": "html"
    }
   },
   "outputs": [
    {
     "data": {
      "text/html": [
       "<!-- HTML output div -->\n",
       "<div id=\"message\"></div>\n",
       "<script>\n",
       "    function runWhenDOMLoaded() {\n",
       "        let foodCard = true;\n",
       "        let money = 1;\n",
       "        let foodChoice = \"cotton candy\";\n",
       "        //You probably want to add some boolean variables here to check if the food is in stock or not... \n",
       "        //Make sure to add another food! Get creative!\n",
       "\n",
       "        const messageElement = document.getElementById(\"message\");\n",
       "\n",
       "        function displayMessage(message) {\n",
       "            console.log(message); // Log to console\n",
       "            messageElement.textContent = message; // Display on the webpage\n",
       "        }\n",
       "\n",
       "        if (foodCard === true) {\n",
       "            if (foodChoice === \"popcorn\") {//Checks the food choice\n",
       "                    displayMessage(\"Yum! The popcorn is tasty!\");\n",
       "            } else if (foodChoice === \"cotton candy\") {\n",
       "                    displayMessage(\"Yum! The cotton candy is tasty!\");\n",
       "            }//Use the previous code as examples to help make another food! \n",
       "            // Also, make sure to add more nested conditionals inside the if statements above to check if the food is in stock\n",
       "        } else {\n",
       "            if (foodChoice === \"popcorn\") {\n",
       "                if (money >= 8) { // checks if you have enough money to buy\n",
       "                    //Add another if statement to check if the food is in stock!\n",
       "                    displayMessage(\"Yay! You can buy the popcorn!\");\n",
       "                } else {\n",
       "                    displayMessage(\"Oh... you can't buy the popcorn.\");\n",
       "                }\n",
       "            } else if (foodChoice === \"cotton candy\") {\n",
       "                if (money >= 5) {\n",
       "                    //Add another if statement to check if the food is in stock!\n",
       "                    displayMessage(\"Yay! You can buy the cotton candy!\");\n",
       "                } else {\n",
       "                    displayMessage(\"Oh... you can't buy the cotton candy.\");\n",
       "                }//Add the other food and make sure to check if it is in stock!\n",
       "            }\n",
       "        }\n",
       "    }\n",
       "\n",
       "    // Ensure the function runs only after the page loads\n",
       "    if (document.readyState === \"loading\") {\n",
       "        document.addEventListener(\"DOMContentLoaded\", runWhenDOMLoaded);\n",
       "    } else {\n",
       "        runWhenDOMLoaded();\n",
       "    }\n",
       "</script>\n"
      ],
      "text/plain": [
       "<IPython.core.display.HTML object>"
      ]
     },
     "metadata": {},
     "output_type": "display_data"
    }
   ],
   "source": [
    "%%html\n",
    "<!-- HTML output div -->\n",
    "<div id=\"message\"></div>\n",
    "<script>\n",
    "    function runWhenDOMLoaded() {\n",
    "        let foodCard = true;\n",
    "        let money = 1;\n",
    "        let foodChoice = \"cotton candy\";\n",
    "        //You probably want to add some boolean variables here to check if the food is in stock or not... \n",
    "        //Make sure to add another food! Get creative!\n",
    "\n",
    "        const messageElement = document.getElementById(\"message\");\n",
    "\n",
    "        function displayMessage(message) {\n",
    "            console.log(message); // Log to console\n",
    "            messageElement.textContent = message; // Display on the webpage\n",
    "        }\n",
    "\n",
    "        if (foodCard === true) {\n",
    "            if (foodChoice === \"popcorn\") {//Checks the food choice\n",
    "                    displayMessage(\"Yum! The popcorn is tasty!\");\n",
    "            } else if (foodChoice === \"cotton candy\") {\n",
    "                    displayMessage(\"Yum! The cotton candy is tasty!\");\n",
    "            }//Use the previous code as examples to help make another food! \n",
    "            // Also, make sure to add more nested conditionals inside the if statements above to check if the food is in stock\n",
    "        } else {\n",
    "            if (foodChoice === \"popcorn\") {\n",
    "                if (money >= 8) { // checks if you have enough money to buy\n",
    "                    //Add another if statement to check if the food is in stock!\n",
    "                    displayMessage(\"Yay! You can buy the popcorn!\");\n",
    "                } else {\n",
    "                    displayMessage(\"Oh... you can't buy the popcorn.\");\n",
    "                }\n",
    "            } else if (foodChoice === \"cotton candy\") {\n",
    "                if (money >= 5) {\n",
    "                    //Add another if statement to check if the food is in stock!\n",
    "                    displayMessage(\"Yay! You can buy the cotton candy!\");\n",
    "                } else {\n",
    "                    displayMessage(\"Oh... you can't buy the cotton candy.\");\n",
    "                }//Add the other food and make sure to check if it is in stock!\n",
    "            }\n",
    "        }\n",
    "    }\n",
    "\n",
    "    // Ensure the function runs only after the page loads\n",
    "    if (document.readyState === \"loading\") {\n",
    "        document.addEventListener(\"DOMContentLoaded\", runWhenDOMLoaded);\n",
    "    } else {\n",
    "        runWhenDOMLoaded();\n",
    "    }\n",
    "</script>"
   ]
  },
  {
   "cell_type": "markdown",
   "metadata": {},
   "source": [
    "yay i made cotton candy"
   ]
  }
 ],
 "metadata": {
  "kernelspec": {
   "display_name": "Python 3",
   "language": "python",
   "name": "python3"
  },
  "language_info": {
   "codemirror_mode": {
    "name": "ipython",
    "version": 3
   },
   "file_extension": ".py",
   "mimetype": "text/x-python",
   "name": "python",
   "nbconvert_exporter": "python",
   "pygments_lexer": "ipython3",
   "version": "3.10.12"
  }
 },
 "nbformat": 4,
 "nbformat_minor": 2
}
