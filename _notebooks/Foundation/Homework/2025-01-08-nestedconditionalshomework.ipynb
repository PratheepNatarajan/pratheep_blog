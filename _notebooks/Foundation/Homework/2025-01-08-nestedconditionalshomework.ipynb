{
 "cells": [
  {
   "cell_type": "raw",
   "metadata": {
    "vscode": {
     "languageId": "raw"
    }
   },
   "source": [
    "---\n",
    "layout: post\n",
    "title: Nested Conditionals, Homework\n",
    "description:  Homework for nested conditionals\n",
    "type: issues \n",
    "comments: true\n",
    "permalink: /csse/lessons/nestedconditionals/homework\n",
    "---"
   ]
  },
  {
   "cell_type": "markdown",
   "metadata": {},
   "source": [
    "### Homework Objectives\n",
    "\n",
    "You and your friend want to do different things at the amusement park. To decide, you do a coin flip. Heads means that you get to choose where to go and tails means that your friend gets to choose. If you go on a ride, be sure to check if you are the right height and have enough tickets, and if you go to a food stand, make sure that you have enough money and that the food is in stock. Be creative, and make sure to use nested conditionals!"
   ]
  },
  {
   "cell_type": "code",
   "execution_count": null,
   "metadata": {
    "vscode": {
     "languageId": "javascript"
    }
   },
   "outputs": [],
   "source": [
    "function coinFlip() {\n",
    "  return Math.random() < 0.5 ? 'Heads' : 'Tails';\n",
    "}\n",
    "\n",
    "function canGoOnRide(height, tickets) {\n",
    "  const minHeight = 48;\n",
    "  const rideCost = 2; \n",
    "  if (height >= minHeight) {\n",
    "    if (tickets >= rideCost) {\n",
    "      console.log(\"You are tall enough and have enough tickets to go on the ride!\");\n",
    "      return true; \n",
    "    } else {\n",
    "      console.log(\"You are tall enough, but you don't have enough tickets.\");\n",
    "      return false; \n",
    "    }\n",
    "  } else {\n",
    "    console.log(\"You are not tall enough to go on the ride.\");\n",
    "    return false; \n",
    "  }\n",
    "}\n",
    "\n",
    "function canBuyFood(money, foodInStock, foodCost) {\n",
    "  if (foodInStock) {\n",
    "    if (money >= foodCost) {\n",
    "      console.log(\"You can buy the food!\");\n",
    "      return true; \n",
    "    } else {\n",
    "      console.log(\"You don't have enough money for the food.\");\n",
    "      return false; \n",
    "    }\n",
    "  } else {\n",
    "    console.log(\"Sorry, the food is out of stock.\");\n",
    "    return false; \n",
    "  }\n",
    "}\n",
    "\n",
    "function amusementPark() {\n",
    "  const coinResult = coinFlip();\n",
    "  console.log(`Coin flip result: ${coinResult}`);\n",
    "\n",
    "  const height = 50; \n",
    "  const tickets = 3; \n",
    "  const money = 10; \n",
    "  const foodInStock = true; \n",
    "  const foodCost = 5; \n",
    "  \n",
    "  if (coinResult === 'Heads') {\n",
    "    console.log(\"You get to choose where to go!\");\n",
    "\n",
    "\n",
    "    if (canGoOnRide(height, tickets)) {\n",
    "      console.log(\"Enjoy the ride!\");\n",
    "    } else {\n",
    "      console.log(\"You decide to go to a food stand instead.\");\n",
    "      \n",
    "      if (canBuyFood(money, foodInStock, foodCost)) {\n",
    "        console.log(\"You enjoy your snack!\");\n",
    "      }\n",
    "    }\n",
    "  } else {\n",
    "    console.log(\"Your friend gets to choose where to go.\");\n",
    "\n",
    "    const friendChoice = Math.random() < 0.5 ? \"ride\" : \"food stand\";\n",
    "    if (friendChoice === \"ride\") {\n",
    "      console.log(\"Your friend decides to go on a ride!\");\n",
    "      if (canGoOnRide(height, tickets)) {\n",
    "        console.log(\"Your friend enjoys the ride!\");\n",
    "      } else {\n",
    "        console.log(\"Your friend doesn't have enough tickets or isn't tall enough for the ride.\");\n",
    "      }\n",
    "    } else {\n",
    "      console.log(\"Your friend decides to go to a food stand!\");\n",
    "      if (canBuyFood(money, foodInStock, foodCost)) {\n",
    "        console.log(\"Your friend enjoys their snack!\");\n",
    "      }\n",
    "    }\n",
    "  }\n",
    "}\n",
    "\n",
    "amusementPark();\n"
   ]
  }
 ],
 "metadata": {
  "kernelspec": {
   "display_name": "Python 3",
   "language": "python",
   "name": "python3"
  },
  "language_info": {
   "codemirror_mode": {
    "name": "ipython",
    "version": 3
   },
   "file_extension": ".py",
   "mimetype": "text/x-python",
   "name": "python",
   "nbconvert_exporter": "python",
   "pygments_lexer": "ipython3",
   "version": "3.12.3"
  }
 },
 "nbformat": 4,
 "nbformat_minor": 2
}
