{
 "cells": [
  {
   "cell_type": "code",
   "execution_count": null,
   "metadata": {
    "vscode": {
     "languageId": "yaml"
    }
   },
   "outputs": [],
   "source": [
    "---\n",
    "layout: post\n",
    "title: Homework\n",
    "description: Homework after condition lesson \n",
    "categories: [CSSE JavaScript Fundamentals]\n",
    "courses: { csse: {week: 0}, csp: {week: 0 }, csa: {week: 0}}\n",
    "type: collab\n",
    "permalink: /csse/lessons/conditions/homework/\n",
    "author: Yasna Ahmadi, Katherine Law, Yuna Lee, Namira Sharif\n",
    "toc: true\n",
    "---"
   ]
  },
  {
   "cell_type": "markdown",
   "metadata": {},
   "source": [
    "\n",
    "## Homeworks  \n",
    "\n",
    "\n",
    "### Part 1:\n",
    " Choose one from the three options to make a conditonal statement and if help is needed, use the Format at the bottom of the page.\n",
    "\n",
    "#### Option 1: Grade Checker \n",
    "Example for the grade checker:\n",
    "\n",
    "\"F\" if the grade is below 60.\n",
    "\"D\" if the grade is between 60 and 69.\n",
    "\"C\" if the grade is between 70 and 79.\n",
    "\"B\" if the grade is between 80 and 89.\n",
    "\"A\" if the grade is 90 or above.\n",
    "\n",
    "#### Option 2: Weather app\n",
    "Example for a weather app:\n",
    "\n",
    "If the weather is sunny, print: \"It's a great day to go outside!\"\n",
    "If the weather is rainy, print: \"Don't forget your umbrella!\"\n",
    "If the weather is snowy, print: \"Stay warm and safe!\"\n",
    "\n",
    "#### Option 3: Character Health Status\n",
    "Example for a character health status:\n",
    "\n",
    "If the health is 0, print: \"Your character is dead.\"\n",
    "If the health is between 1 and 25, print: \"Critical condition! Find a health pack!\"\n",
    "If the health is between 26 and 75, print: \"Your character is wounded. Be cautious.\"\n",
    "If the health is above 75, print: \"Your character is healthy and ready for action!\"\n",
    "\n",
    "### Part 2:\n",
    " Make another conditional statement with your idea.\n",
    "\n",
    " Make any If-Then, If, or Then-If statements with different ideas.\n",
    "\n",
    "\n",
    "##### Format: "
   ]
  },
  {
   "cell_type": "code",
   "execution_count": null,
   "metadata": {
    "vscode": {
     "languageId": "javascript"
    }
   },
   "outputs": [],
   "source": [
    "function gradeChecker(score) {\n",
    "  if (score < 0) {\n",
    "    console.log(\"Invalid score: cannot be negative.\");\n",
    "  } else if (score < 60) {\n",
    "    console.log(\"F\");\n",
    "  } else if (score >= 60 && score <= 69) {\n",
    "    console.log(\"D\");\n",
    "  } else if (score >= 70 && score <= 79) {\n",
    "    console.log(\"C\");\n",
    "  } else if (score >= 80 && score <= 89) {\n",
    "    console.log(\"B\");\n",
    "  } else if (score >= 90) {\n",
    "    console.log(\"A\");\n",
    "  } else {\n",
    "    console.log(\"Invalid score.\");\n",
    "  }\n",
    "}\n",
    "\n",
    "gradeChecker(85);  // B\n",
    "gradeChecker(55);  // F\n",
    "gradeChecker(92);  // A\n",
    "gradeChecker(-5);  // Invalid score: cannot be negative.\n",
    "\n",
    "  "
   ]
  },
  {
   "cell_type": "markdown",
   "metadata": {
    "vscode": {
     "languageId": "raw"
    }
   },
   "source": [
    "##### After testing any of the options, revise it and make another one from the options.\n"
   ]
  }
 ],
 "metadata": {
  "language_info": {
   "name": "python"
  }
 },
 "nbformat": 4,
 "nbformat_minor": 2
}
