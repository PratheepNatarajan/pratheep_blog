{
 "cells": [
  {
   "cell_type": "markdown",
   "metadata": {},
   "source": [
    "---\n",
    "layout: post\n",
    "title: Variables Homework\n",
    "description: JavaScript variable homework exercises to apply your skills.\n",
    "type: collab\n",
    "comments: true\n",
    "categories: [CSSE JavaScript Fundamentals]\n",
    "permalink: /csse/lessons/arrays/homework\n",
    "---"
   ]
  },
  {
   "cell_type": "markdown",
   "metadata": {},
   "source": [
    "# Homework!! #\n",
    "\n",
    "Your task is to fill in the following code to alter the arrays!"
   ]
  },
  {
   "cell_type": "markdown",
   "metadata": {},
   "source": [
    "# Lesson 1 Homework"
   ]
  },
  {
   "cell_type": "code",
   "execution_count": 4,
   "metadata": {
    "vscode": {
     "languageId": "javascript"
    }
   },
   "outputs": [
    {
     "data": {
      "application/javascript": "let desserts = [\"lemon\", \"delete1\", \"ice cream\", \"chocolate cake\", \"key lime pie\", \"delete2\"];\n\n// Remove last element\ndesserts.pop();\n\n// Remove the element \"delete1\" at index 1\ndesserts.splice(1, 1);\n\n// Change \"lemon\" to a lemon-themed dessert\ndesserts[0] = \"lemon meringue pie\";\n\n// Print the final list\nconsole.log(desserts);\n",
      "text/plain": [
       "<IPython.core.display.Javascript object>"
      ]
     },
     "metadata": {},
     "output_type": "display_data"
    }
   ],
   "source": [
    "%%js\n",
    "let desserts = [\"lemon\", \"delete1\", \"ice cream\", \"chocolate cake\", \"key lime pie\", \"delete2\"];\n",
    "\n",
    "// Remove last element\n",
    "desserts.pop();\n",
    "\n",
    "// Remove the element \"delete1\" at index 1\n",
    "desserts.splice(1, 1);\n",
    "\n",
    "// Change \"lemon\" to a lemon-themed dessert\n",
    "desserts[0] = \"lemon meringue pie\";\n",
    "\n",
    "// Print the final list\n",
    "console.log(desserts);"
   ]
  },
  {
   "cell_type": "markdown",
   "metadata": {},
   "source": [
    "# Lesson 2 Homework - Part 1"
   ]
  },
  {
   "cell_type": "code",
   "execution_count": 5,
   "metadata": {
    "vscode": {
     "languageId": "javascript"
    }
   },
   "outputs": [
    {
     "data": {
      "application/javascript": "let number = [1, 2, 3, 4, 5, 3];\n\nfor (let i = 0; i < number.length; i++) {\n    console.log(number[i]);\n}\n\n// Find and print the index of the last occurring repeated value (in this case, the value \"3\")\nlet lastRepeat = -1; // To store the index of the last repeated element\n\nfor (let i = 0; i < number.length; i++) {\n    if (number.indexOf(number[i]) !== i && number.lastIndexOf(number[i]) === i) {\n        lastRepeat = i;\n    }\n}\n\nconsole.log(\"Last repeated element is at index:\", lastRepeat);\n",
      "text/plain": [
       "<IPython.core.display.Javascript object>"
      ]
     },
     "metadata": {},
     "output_type": "display_data"
    }
   ],
   "source": [
    "%%js\n",
    "let number = [1, 2, 3, 4, 5, 3];\n",
    "\n",
    "for (let i = 0; i < number.length; i++) {\n",
    "    console.log(number[i]);\n",
    "}\n",
    "\n",
    "// Find and print the index of the last occurring repeated value (in this case, the value \"3\")\n",
    "let lastRepeat = -1; // To store the index of the last repeated element\n",
    "\n",
    "for (let i = 0; i < number.length; i++) {\n",
    "    if (number.indexOf(number[i]) !== i && number.lastIndexOf(number[i]) === i) {\n",
    "        lastRepeat = i;\n",
    "    }\n",
    "}\n",
    "\n",
    "console.log(\"Last repeated element is at index:\", lastRepeat);"
   ]
  },
  {
   "cell_type": "markdown",
   "metadata": {},
   "source": [
    "# Lesson 2 Homework - Part 2"
   ]
  },
  {
   "cell_type": "code",
   "execution_count": 6,
   "metadata": {
    "vscode": {
     "languageId": "javascript"
    }
   },
   "outputs": [
    {
     "data": {
      "application/javascript": "let fruits = ['apple', 'banana', 'cherry', 'grape', 'orange'];\n\n// Print the length of the list\nconsole.log(fruits.length);\n\n// Create a variable to check if 'banana' is in the list\nlet isBananaInList = fruits.includes('banana');\n\n// Print the result (true or false)\nconsole.log(isBananaInList);\n\n",
      "text/plain": [
       "<IPython.core.display.Javascript object>"
      ]
     },
     "metadata": {},
     "output_type": "display_data"
    }
   ],
   "source": [
    "%%js\n",
    "let fruits = ['apple', 'banana', 'cherry', 'grape', 'orange'];\n",
    "\n",
    "// Print the length of the list\n",
    "console.log(fruits.length);\n",
    "\n",
    "// Create a variable to check if 'banana' is in the list\n",
    "let isBananaInList = fruits.includes('banana');\n",
    "\n",
    "// Print the result (true or false)\n",
    "console.log(isBananaInList);\n",
    "\n"
   ]
  },
  {
   "cell_type": "markdown",
   "metadata": {
    "vscode": {
     "languageId": "javascript"
    }
   },
   "source": [
    "You're done with your homework!!"
   ]
  }
 ],
 "metadata": {
  "kernelspec": {
   "display_name": "Python 3",
   "language": "python",
   "name": "python3"
  },
  "language_info": {
   "codemirror_mode": {
    "name": "ipython",
    "version": 3
   },
   "file_extension": ".py",
   "mimetype": "text/x-python",
   "name": "python",
   "nbconvert_exporter": "python",
   "pygments_lexer": "ipython3",
   "version": "3.10.12"
  }
 },
 "nbformat": 4,
 "nbformat_minor": 2
}
