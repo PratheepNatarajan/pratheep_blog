{
 "cells": [
  {
   "cell_type": "markdown",
   "metadata": {},
   "source": [
    "---\n",
    "layout: post\n",
    "title: Variables Homework\n",
    "description: JavaScript variable homework exercises to apply your skills.\n",
    "type: collab\n",
    "comments: true\n",
    "categories: [CSSE JavaScript Fundamentals]\n",
    "permalink: /csse/lessons/arrays/homework\n",
    "---"
   ]
  },
  {
   "cell_type": "markdown",
   "metadata": {},
   "source": [
    "# Homework!! #\n",
    "\n",
    "Your task is to fill in the following code to alter the arrays!"
   ]
  },
  {
   "cell_type": "markdown",
   "metadata": {},
   "source": [
    "# Lesson 1 Homework"
   ]
  },
  {
   "cell_type": "code",
   "execution_count": 2,
   "metadata": {
    "vscode": {
     "languageId": "javascript"
    }
   },
   "outputs": [
    {
     "data": {
      "application/javascript": "//We have an array made for you, but something's off...\nlet desserts = [\"lemon\",\"delete1\",\"ice cream\",\"chocolate cake\",\"key lime pie\",\"delete2\"];\n//We need to get rid of the elements labeled delete1 and delete2!\ndesserts.___();//which command gets rid of the last element in the array?\ndesserts._____(_,_);//which command will delete the delete 1 element and how do you use it??\n\n//now that that's done... a lemon isn't a dessert unless you're weird... maybe change it to a lemon-themed dessert?\ndesserts[_]=\"put your lemon-themed dessert here :D\";\n\n//hint for the previous 2 fill-in-the-blanks: the indexing starts at 0\n\n//okay okay, you've proven your skills... now all that's left is to print the list!\n",
      "text/plain": [
       "<IPython.core.display.Javascript object>"
      ]
     },
     "metadata": {},
     "output_type": "display_data"
    }
   ],
   "source": [
    "%%js\n",
    "let desserts = [\"lemon\", \"delete1\", \"ice cream\", \"chocolate cake\", \"key lime pie\", \"delete2\"];\n",
    "\n",
    "// Remove last element\n",
    "desserts.pop();\n",
    "\n",
    "// Remove the element \"delete1\" at index 1\n",
    "desserts.splice(1, 1);\n",
    "\n",
    "// Change \"lemon\" to a lemon-themed dessert\n",
    "desserts[0] = \"lemon meringue pie\";\n",
    "\n",
    "// Print the final list\n",
    "console.log(desserts);"
   ]
  },
  {
   "cell_type": "markdown",
   "metadata": {},
   "source": [
    "# Lesson 2 Homework - Part 1"
   ]
  },
  {
   "cell_type": "code",
   "execution_count": 4,
   "metadata": {
    "vscode": {
     "languageId": "javascript"
    }
   },
   "outputs": [
    {
     "data": {
      "application/javascript": "let number = [1, 2, 3, 4, 5, 3];\n\nfor (let i = 0; i < number.length; i++) {\n    console.log(number[i]);\n}\n\n// Find and print the index of the last occurring repeated value (in this case, the value \"3\")\nlet lastRepeat = -1; // To store the index of the last repeated element\n\nfor (let i = 0; i < number.length; i++) {\n    if (number.indexOf(number[i]) !== i && number.lastIndexOf(number[i]) === i) {\n        lastRepeat = i;\n    }\n}\n\nconsole.log(\"Last repeated element is at index:\", lastRepeat);\n\n\n\n\n",
      "text/plain": [
       "<IPython.core.display.Javascript object>"
      ]
     },
     "metadata": {},
     "output_type": "display_data"
    }
   ],
   "source": [
    "%%js\n",
    "let number = [1, 2, 3, 4, 5, 3];\n",
    "\n",
    "for (let i = 0; i < number.length; i++) {\n",
    "    console.log(number[i]);\n",
    "}\n",
    "\n",
    "// Find and print the index of the last occurring repeated value (in this case, the value \"3\")\n",
    "let lastRepeat = -1; // To store the index of the last repeated element\n",
    "\n",
    "for (let i = 0; i < number.length; i++) {\n",
    "    if (number.indexOf(number[i]) !== i && number.lastIndexOf(number[i]) === i) {\n",
    "        lastRepeat = i;\n",
    "    }\n",
    "}\n",
    "\n",
    "console.log(\"Last repeated element is at index:\", lastRepeat);"
   ]
  },
  {
   "cell_type": "markdown",
   "metadata": {},
   "source": [
    "# Lesson 2 Homework - Part 2"
   ]
  },
  {
   "cell_type": "code",
   "execution_count": null,
   "metadata": {
    "vscode": {
     "languageId": "javascript"
    }
   },
   "outputs": [
    {
     "data": {
      "application/javascript": "//This is the fairly simple final problem of arrays!\n\n//Create a list here that includes whatever you'd like once again.\n\nlet list = [1,2,3];\n\n//Now, print the length of your list! Tip: you don't need to create a variable for the list's length! Just console.log the list.length; it saves you a line :D\n\nconsole.log(list.length);\n\n//Finally, create a variable to check if a value in your list is included in the list and print that variable you created (it should output true or false)\n\nlet includes = list.includes(4);\nconsole.log(includes);\n",
      "text/plain": [
       "<IPython.core.display.Javascript object>"
      ]
     },
     "metadata": {},
     "output_type": "display_data"
    }
   ],
   "source": [
    "%%js\n",
    "let fruits = ['apple', 'banana', 'cherry', 'grape', 'orange'];\n",
    "\n",
    "// Print the length of the list\n",
    "console.log(fruits.length);\n",
    "\n",
    "// Create a variable to check if 'banana' is in the list\n",
    "let isBananaInList = fruits.includes('banana');\n",
    "\n",
    "// Print the result (true or false)\n",
    "console.log(isBananaInList);\n",
    "\n"
   ]
  },
  {
   "cell_type": "markdown",
   "metadata": {
    "vscode": {
     "languageId": "javascript"
    }
   },
   "source": [
    "You're done with your homework!!"
   ]
  }
 ],
 "metadata": {
  "kernelspec": {
   "display_name": "Python 3",
   "language": "python",
   "name": "python3"
  },
  "language_info": {
   "codemirror_mode": {
    "name": "ipython",
    "version": 3
   },
   "file_extension": ".py",
   "mimetype": "text/x-python",
   "name": "python",
   "nbconvert_exporter": "python",
   "pygments_lexer": "ipython3",
   "version": "3.10.12"
  }
 },
 "nbformat": 4,
 "nbformat_minor": 2
}
